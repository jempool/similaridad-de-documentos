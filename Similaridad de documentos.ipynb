{
 "cells": [
  {
   "cell_type": "markdown",
   "metadata": {},
   "source": [
    "# Taller 2"
   ]
  },
  {
   "cell_type": "markdown",
   "metadata": {},
   "source": [
    "## Jem Pool Suarez - 1630536"
   ]
  },
  {
   "cell_type": "markdown",
   "metadata": {},
   "source": [
    "## Similaridad de documentos usando la medida del coseno"
   ]
  },
  {
   "cell_type": "markdown",
   "metadata": {},
   "source": [
    "$\n",
    "\\begin{align}\n",
    "\\text { Similaridad (A, B) }\n",
    "=\\frac\n",
    "    { \\left( \\sum_{i=1}^n A_i B_i \\right) }\n",
    "    { \\sqrt{\\left( \\sum_{i=1}^n A^2_i  \\right)} \\sqrt{\\left( \\sum_{i=1}^n B^2_i  \\right)} }\n",
    "\\end{align}\n",
    "$"
   ]
  },
  {
   "cell_type": "code",
   "execution_count": 3,
   "metadata": {},
   "outputs": [
    {
     "data": {
      "text/markdown": [
       "<h3>Conjunto de términos-documentos y query</h3>"
      ],
      "text/plain": [
       "<IPython.core.display.Markdown object>"
      ]
     },
     "metadata": {},
     "output_type": "display_data"
    },
    {
     "data": {
      "text/html": [
       "<div>\n",
       "<style scoped>\n",
       "    .dataframe tbody tr th:only-of-type {\n",
       "        vertical-align: middle;\n",
       "    }\n",
       "\n",
       "    .dataframe tbody tr th {\n",
       "        vertical-align: top;\n",
       "    }\n",
       "\n",
       "    .dataframe thead th {\n",
       "        text-align: right;\n",
       "    }\n",
       "</style>\n",
       "<table border=\"1\" class=\"dataframe\">\n",
       "  <thead>\n",
       "    <tr style=\"text-align: right;\">\n",
       "      <th></th>\n",
       "      <th>Doc1</th>\n",
       "      <th>Doc2</th>\n",
       "      <th>Doc3</th>\n",
       "      <th>query</th>\n",
       "    </tr>\n",
       "  </thead>\n",
       "  <tbody>\n",
       "    <tr>\n",
       "      <th>car</th>\n",
       "      <td>27</td>\n",
       "      <td>4</td>\n",
       "      <td>24</td>\n",
       "      <td>13</td>\n",
       "    </tr>\n",
       "    <tr>\n",
       "      <th>auto</th>\n",
       "      <td>3</td>\n",
       "      <td>33</td>\n",
       "      <td>0</td>\n",
       "      <td>0</td>\n",
       "    </tr>\n",
       "    <tr>\n",
       "      <th>insurance</th>\n",
       "      <td>0</td>\n",
       "      <td>33</td>\n",
       "      <td>29</td>\n",
       "      <td>0</td>\n",
       "    </tr>\n",
       "    <tr>\n",
       "      <th>best</th>\n",
       "      <td>14</td>\n",
       "      <td>0</td>\n",
       "      <td>17</td>\n",
       "      <td>22</td>\n",
       "    </tr>\n",
       "  </tbody>\n",
       "</table>\n",
       "</div>"
      ],
      "text/plain": [
       "           Doc1  Doc2  Doc3  query\n",
       "car          27     4    24     13\n",
       "auto          3    33     0      0\n",
       "insurance     0    33    29      0\n",
       "best         14     0    17     22"
      ]
     },
     "metadata": {},
     "output_type": "display_data"
    },
    {
     "name": "stdout",
     "output_type": "stream",
     "text": [
      "\n",
      "\n"
     ]
    }
   ],
   "source": [
    "import numpy as np\n",
    "import pandas\n",
    "import matplotlib.pyplot as plt\n",
    "from IPython.display import display, Markdown\n",
    "\n",
    "display(Markdown('<h3>{}</h3>'.format(\"Conjunto de términos-documentos y query\")))\n",
    "\n",
    "data = [[ 27,4,24,13],\n",
    "        [ 3,33,0,0],\n",
    "        [ 0,33,29,0],\n",
    "        [ 14,0,17,22]]\n",
    "\n",
    "rows = ('car', 'auto', 'insurance', 'best')\n",
    "columns = ('Doc1', 'Doc2', 'Doc3', 'query')\n",
    "display(pandas.DataFrame(data, rows, columns))\n",
    "print(\"\\n\")"
   ]
  },
  {
   "cell_type": "code",
   "execution_count": 4,
   "metadata": {},
   "outputs": [
    {
     "data": {
      "text/markdown": [
       "<h3>Implementación la función Sim(q, d) sobre los términos car y best</h3>"
      ],
      "text/plain": [
       "<IPython.core.display.Markdown object>"
      ]
     },
     "metadata": {},
     "output_type": "display_data"
    },
    {
     "data": {
      "text/html": [
       "<div>\n",
       "<style scoped>\n",
       "    .dataframe tbody tr th:only-of-type {\n",
       "        vertical-align: middle;\n",
       "    }\n",
       "\n",
       "    .dataframe tbody tr th {\n",
       "        vertical-align: top;\n",
       "    }\n",
       "\n",
       "    .dataframe thead th {\n",
       "        text-align: right;\n",
       "    }\n",
       "</style>\n",
       "<table border=\"1\" class=\"dataframe\">\n",
       "  <thead>\n",
       "    <tr style=\"text-align: right;\">\n",
       "      <th></th>\n",
       "      <th>Doc1</th>\n",
       "      <th>Doc2</th>\n",
       "      <th>Doc3</th>\n",
       "      <th>query</th>\n",
       "    </tr>\n",
       "  </thead>\n",
       "  <tbody>\n",
       "    <tr>\n",
       "      <th>car</th>\n",
       "      <td>27</td>\n",
       "      <td>4</td>\n",
       "      <td>24</td>\n",
       "      <td>13</td>\n",
       "    </tr>\n",
       "    <tr>\n",
       "      <th>best</th>\n",
       "      <td>14</td>\n",
       "      <td>0</td>\n",
       "      <td>17</td>\n",
       "      <td>22</td>\n",
       "    </tr>\n",
       "  </tbody>\n",
       "</table>\n",
       "</div>"
      ],
      "text/plain": [
       "      Doc1  Doc2  Doc3  query\n",
       "car     27     4    24     13\n",
       "best    14     0    17     22"
      ]
     },
     "metadata": {},
     "output_type": "display_data"
    },
    {
     "name": "stdout",
     "output_type": "stream",
     "text": [
      "\n",
      "Sim(Doc1, query) =  0.8479\n",
      "Sim(Doc2, query) =  0.5087\n",
      "Sim(Doc3, query) =  0.9128 \n",
      "\n"
     ]
    }
   ],
   "source": [
    "'''\n",
    "Use el criterio de similaridad del coseno e implemente la función Sim(q; d) sobre los términos car (eje X) y best (eje Y) para encontrar el documento más relevante (valor mayor del coseno) y el menos relevante (menor valor del coseno) según el query.\n",
    "'''\n",
    "def Sim(A, B):  \n",
    "    dotAB = 0; normA = 0; normB = 0;\n",
    "    for index in range(len(A)):\n",
    "        dotAB += A[index]*B[index]\n",
    "        normA += A[index]**2 \n",
    "        normB += B[index]**2           \n",
    "    return dotAB / (normA**0.5 * normB**0.5)\n",
    "\n",
    "display(Markdown('<h3>{}</h3>'.format(\"Implementación la función Sim(q, d) sobre los términos car y best\")))\n",
    "car = data[0]; best = data[3];\n",
    "display(pandas.DataFrame([car, best], ('car', 'best'), columns))\n",
    "\n",
    "Doc1 = [car[0], best[0]]; Doc2 = [car[1], best[1]]; Doc3 = [car[2], best[2]]; query = [car[3], best[3]];\n",
    "print(\"\\nSim(Doc1, query) = \", round( Sim(Doc1, query) , 4) )\n",
    "print(\"Sim(Doc2, query) = \", round( Sim(Doc2, query) , 4) )\n",
    "print(\"Sim(Doc3, query) = \", round( Sim(Doc3, query) , 4) ,\"\\n\")\n"
   ]
  },
  {
   "cell_type": "code",
   "execution_count": 5,
   "metadata": {},
   "outputs": [
    {
     "data": {
      "text/markdown": [
       "<h3>Vectores de documentos y query en el plano cartesiano sobre los términos car y best</h3>"
      ],
      "text/plain": [
       "<IPython.core.display.Markdown object>"
      ]
     },
     "metadata": {},
     "output_type": "display_data"
    },
    {
     "data": {
      "image/png": "[encoded data removed]",
      "text/plain": [
       "<Figure size 432x288 with 1 Axes>"
      ]
     },
     "metadata": {},
     "output_type": "display_data"
    }
   ],
   "source": [
    "'''\n",
    "Implementar una rutina que muestre los vectores de cada documento y el query en el plano cartesiano sobre los términos car y best.\n",
    "'''\n",
    "\n",
    "display(Markdown('<h3>{}</h3>'.format(\"Vectores de documentos y query en el plano cartesiano sobre los términos car y best\")))\n",
    "\n",
    "M = np.array([Doc1, Doc2, Doc3, query])\n",
    "\n",
    "rows,cols = M.T.shape\n",
    "for i,l in enumerate(range(0,cols)):\n",
    "    xs = [0,M[i,0]]\n",
    "    ys = [0,M[i,1]]\n",
    "    plt.plot(xs,ys)\n",
    "    \n",
    "#Get absolute maxes for axis ranges to center origin\n",
    "maxes = 1.1*np.amax(abs(M), axis = 0)\n",
    "\n",
    "plt.plot(0,0,'ok') #<-- plot a black point at the origin\n",
    "plt.axis('equal')  #<-- set the axes to the same scale\n",
    "plt.xlim([-maxes[0],maxes[0]]) #<-- set the x axis limits\n",
    "plt.ylim([-maxes[1],maxes[1]]) #<-- set the y axis limits\n",
    "plt.legend([*['V'+str(i+1) for i in range(cols-1)],\"query\"]) #<-- give a legend\n",
    "plt.grid(b=True, which='major') #<-- plot grid lines\n",
    "plt.xlabel('car')\n",
    "plt.ylabel('best')\n",
    "plt.show()"
   ]
  },
  {
   "cell_type": "code",
   "execution_count": null,
   "metadata": {},
   "outputs": [],
   "source": []
  }
 ],
 "metadata": {
  "kernelspec": {
   "display_name": "Python 3",
   "language": "python",
   "name": "python3"
  },
  "language_info": {
   "codemirror_mode": {
    "name": "ipython",
    "version": 3
   },
   "file_extension": ".py",
   "mimetype": "text/x-python",
   "name": "python",
   "nbconvert_exporter": "python",
   "pygments_lexer": "ipython3",
   "version": "3.6.5"
  }
 },
 "nbformat": 4,
 "nbformat_minor": 2
}
